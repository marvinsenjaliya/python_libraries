{
 "cells": [
  {
   "cell_type": "code",
   "execution_count": 10,
   "metadata": {},
   "outputs": [
    {
     "data": {
      "image/png": "[encoded data removed]",
      "text/plain": [
       "<Figure size 432x288 with 1 Axes>"
      ]
     },
     "metadata": {
      "needs_background": "light"
     },
     "output_type": "display_data"
    }
   ],
   "source": [
    "\"\"\"\n",
    "Created on 1/23/2020\n",
    "@author:Marvin Senjaliya\n",
    "\"\"\"\n",
    "\"\"\"\n",
    "problem statement:\n",
    ". Write a Python programming to display a bar chart of the popularity of programming Languages. Use different color for each bar. \n",
    "Sample data: \n",
    "Programming languages: Java, Python, PHP, JavaScript, C#, C++\n",
    "Popularity: 22.2, 17.6, 8.8, 8, 7.7, 6.7 \n",
    "\n",
    "\"\"\"\n",
    "from matplotlib import pyplot as plt\n",
    "import numpy as np\n",
    "programming_languages=['java','python','php','javascript','c#','c++']\n",
    "y_pos=np.arange(len(programming_languages))\n",
    "popularity=[22.2,17.6,8.8,8,7.7,6.7]\n",
    "barlist=plt.barh(y_pos,popularity,color=(0.1,0.9,0.5,0.7))\n",
    "barlist[0].set_color('r')\n",
    "barlist[1].set_color('k')\n",
    "barlist[2].set_color('g')\n",
    "barlist[3].set_color('b')\n",
    "barlist[4].set_color('w')\n",
    "plt.show()\n",
    "\n"
   ]
  },
  {
   "cell_type": "code",
   "execution_count": null,
   "metadata": {},
   "outputs": [],
   "source": []
  }
 ],
 "metadata": {
  "kernelspec": {
   "display_name": "Python 3",
   "language": "python",
   "name": "python3"
  },
  "language_info": {
   "codemirror_mode": {
    "name": "ipython",
    "version": 3
   },
   "file_extension": ".py",
   "mimetype": "text/x-python",
   "name": "python",
   "nbconvert_exporter": "python",
   "pygments_lexer": "ipython3",
   "version": "3.7.4"
  }
 },
 "nbformat": 4,
 "nbformat_minor": 2
}
