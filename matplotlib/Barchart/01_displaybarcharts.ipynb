{
 "cells": [
  {
   "cell_type": "code",
   "execution_count": 10,
   "metadata": {},
   "outputs": [
    {
     "data": {
      "text/plain": [
       "<BarContainer object of 6 artists>"
      ]
     },
     "execution_count": 10,
     "metadata": {},
     "output_type": "execute_result"
    },
    {
     "data": {
      "image/png": "[encoded data removed]",
      "text/plain": [
       "<Figure size 432x288 with 1 Axes>"
      ]
     },
     "metadata": {
      "needs_background": "light"
     },
     "output_type": "display_data"
    }
   ],
   "source": [
    "\"\"\"\n",
    "Created on:1/23/2020\n",
    "@author:Marvin Senjaliya \n",
    "\"\"\"\n",
    "\n",
    "\"\"\"\n",
    "problem statement:\n",
    " Write a Python programming to display a bar chart of the popula$\n",
    "Sample data: \n",
    "Pr Write a Python programming to display a bar chart of the popu$\n",
    "Sample data: \n",
    "Programming languages: Java, Python, PHP, JavaScript, C#, C++\n",
    "Popularity: 22.2, 17.6, 8.8, 8, 7.7, 6.7\n",
    "\"\"\"\n",
    "from matplotlib import pyplot as plt\n",
    "programming_language = [\"java\",\"python\",\"php\",\"javaScript\",\"c#\",\"c++\"]\n",
    "popularity = [22.2,17.6,8.8,8,7.7,6.7]\n",
    "plt.bar(programming_language,popularity)\n",
    "\n",
    "                     "
   ]
  },
  {
   "cell_type": "code",
   "execution_count": null,
   "metadata": {},
   "outputs": [],
   "source": []
  }
 ],
 "metadata": {
  "kernelspec": {
   "display_name": "Python 3",
   "language": "python",
   "name": "python3"
  },
  "language_info": {
   "codemirror_mode": {
    "name": "ipython",
    "version": 3
   },
   "file_extension": ".py",
   "mimetype": "text/x-python",
   "name": "python",
   "nbconvert_exporter": "python",
   "pygments_lexer": "ipython3",
   "version": "3.7.4"
  }
 },
 "nbformat": 4,
 "nbformat_minor": 2
}
